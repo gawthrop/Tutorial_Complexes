{
 "cells": [
  {
   "cell_type": "markdown",
   "metadata": {},
   "source": [
    "***Note: this is the Complexes.ipynb notebook. The\n",
    "PDF version \"Bond Graph Representation of Complexes: Bringing Graph Theory\n",
    "to Bond Graphs\"\n",
    "is available [here](Complexes.pdf).***"
   ]
  },
  {
   "cell_type": "markdown",
   "metadata": {},
   "source": [
    "# Introduction\n",
    "\n",
    "Chemical Reaction Network theory <cite data-cite=\"Fei72,HorJac72,FeiHor74,SchRaoJay13,SchRaoJay15,SchRaoJay16\"></cite> uses the formal concept of *complexes*.  \n",
    "Complexes are the combination of chemical\n",
    "species forming the substrate and products of the network reactions. In particular, the stoichiometric matrix $N$ can be decomposed as:\n",
    "  $N = ZD$\n",
    "where $Z$ relates complexes to species and $D$ is the *incidence matrix* of the directed graph formed by taking the\n",
    "complexes to be vertices and the reactions to be edges.\n",
    "This digraph can then be analysed using standard graph theory. \n",
    "\n",
    "This notion can be given a bond graph interpretation\n",
    "<cite data-cite=\"GawCra18a\">(Gawthrop and Crampin, 2018)</cite>. \n",
    "This notebook illustrates complexes using examples from this paper; please see the paper for further explanation.\n",
    "\n",
    "As noted by <cite data-cite=\"GawCra18a\">(Gawthrop and Crampin, 2018)</cite> the digraphs for systems with and without chemostats are very different and so both are shown in the following examples.\n",
    "The digraphs associated with chemostats are related to bond graph pathway analysis <cite data-cite=\"GawCra17\">(Gawthrop and Crampin, 2017)</cite>; for each of the three examples the corresponding pathways are given."
   ]
  },
  {
   "cell_type": "markdown",
   "metadata": {},
   "source": [
    "## Import some python code\n",
    "The bond graph analysis uses a number of Python modules:"
   ]
  },
  {
   "cell_type": "code",
   "execution_count": 1,
   "metadata": {},
   "outputs": [],
   "source": [
    "## Some useful imports\n",
    "import BondGraphTools as bgt\n",
    "import numpy as np\n",
    "import sympy as sp\n",
    "import matplotlib.pyplot as plt\n",
    "import IPython.display as disp\n",
    "\n",
    "## Stoichiometric analysis\n",
    "import stoich as st\n",
    "\n",
    "## SVG bg representation conversion\n",
    "import svgBondGraph as sbg\n",
    "\n",
    "## Set quiet=False for verbose output\n",
    "quiet = True\n",
    "\n",
    "## Chemformula output\n",
    "chemformula = False"
   ]
  },
  {
   "cell_type": "markdown",
   "metadata": {},
   "source": [
    "# Example 1: enzyme-catalysed reaction \n",
    "The bond graph representation of the (reversible) enzyme-catalysed reaction is\n",
    "<cite data-cite=\"GawCra18a\">(Gawthrop and Crampin, 2018)</cite>:"
   ]
  },
  {
   "cell_type": "code",
   "execution_count": 2,
   "metadata": {},
   "outputs": [
    {
     "data": {
      "image/svg+xml": [
       "<svg xmlns=\"http://www.w3.org/2000/svg\" xmlns:xlink=\"http://www.w3.org/1999/xlink\" width=\"460pt\" height=\"234pt\" viewBox=\"406 -1275 7287 3714\">\n",
       "<g fill=\"none\">\n",
       "<!-- Text -->\n",
       "<g transform=\"translate(2835,2025) rotate(-270)\">\n",
       "<text xml:space=\"preserve\" x=\"0\" y=\"0\" fill=\"#000000\" font-family=\"Helvetica\" font-style=\"normal\" font-weight=\"bold\" font-size=\"216\" text-anchor=\"middle\">Re:r1</text>\n",
       "</g><!-- Text -->\n",
       "<g transform=\"translate(5085,2025) rotate(-270)\">\n",
       "<text xml:space=\"preserve\" x=\"0\" y=\"0\" fill=\"#000000\" font-family=\"Helvetica\" font-style=\"normal\" font-weight=\"bold\" font-size=\"216\" text-anchor=\"middle\">Re:r2</text>\n",
       "</g><!-- Text -->\n",
       "<text xml:space=\"preserve\" x=\"675\" y=\"990\" fill=\"#000000\" font-family=\"Helvetica\" font-style=\"normal\" font-weight=\"bold\" font-size=\"216\" text-anchor=\"middle\">Ce:A</text>\n",
       "<!-- Text -->\n",
       "<text xml:space=\"preserve\" x=\"1800\" y=\"2115\" fill=\"#000000\" font-family=\"Helvetica\" font-style=\"normal\" font-weight=\"bold\" font-size=\"216\" text-anchor=\"middle\">1</text>\n",
       "<!-- Text -->\n",
       "<text xml:space=\"preserve\" x=\"675\" y=\"2115\" fill=\"#000000\" font-family=\"Helvetica\" font-style=\"normal\" font-weight=\"bold\" font-size=\"216\" text-anchor=\"middle\">0</text>\n",
       "<!-- Text -->\n",
       "<text xml:space=\"preserve\" x=\"4050\" y=\"-1035\" fill=\"#000000\" font-family=\"Helvetica\" font-style=\"normal\" font-weight=\"bold\" font-size=\"216\" text-anchor=\"middle\">Ce:E</text>\n",
       "<!-- Text -->\n",
       "<text xml:space=\"preserve\" x=\"4050\" y=\"90\" fill=\"#000000\" font-family=\"Helvetica\" font-style=\"normal\" font-weight=\"bold\" font-size=\"216\" text-anchor=\"middle\">0</text>\n",
       "<!-- Text -->\n",
       "<text xml:space=\"preserve\" x=\"4050\" y=\"2115\" fill=\"#000000\" font-family=\"Helvetica\" font-style=\"normal\" font-weight=\"bold\" font-size=\"216\" text-anchor=\"middle\">0</text>\n",
       "<!-- Text -->\n",
       "<text xml:space=\"preserve\" x=\"4050\" y=\"990\" fill=\"#000000\" font-family=\"Helvetica\" font-style=\"normal\" font-weight=\"bold\" font-size=\"216\" text-anchor=\"middle\">Ce:C</text>\n",
       "<!-- Text -->\n",
       "<text xml:space=\"preserve\" x=\"7425\" y=\"990\" fill=\"#000000\" font-family=\"Helvetica\" font-style=\"normal\" font-weight=\"bold\" font-size=\"216\" text-anchor=\"middle\">Ce:B</text>\n",
       "<!-- Text -->\n",
       "<text xml:space=\"preserve\" x=\"7425\" y=\"2115\" fill=\"#000000\" font-family=\"Helvetica\" font-style=\"normal\" font-weight=\"bold\" font-size=\"216\" text-anchor=\"middle\">0</text>\n",
       "<!-- Text -->\n",
       "<text xml:space=\"preserve\" x=\"6300\" y=\"2115\" fill=\"#000000\" font-family=\"Helvetica\" font-style=\"normal\" font-weight=\"bold\" font-size=\"216\" text-anchor=\"middle\">1</text>\n",
       "<!-- Line -->\n",
       "<polyline points=\" 6075,1800 4275,0 4275,225\" stroke=\"#000000\" stroke-width=\"15px\"/>\n",
       "<!-- Line -->\n",
       "<polyline points=\" 3825,0 2025,1800 2250,1800\" stroke=\"#000000\" stroke-width=\"15px\"/>\n",
       "<!-- Line -->\n",
       "<polyline points=\" 900,2025 1575,2025 1350,2250\" stroke=\"#000000\" stroke-width=\"15px\"/>\n",
       "<!-- Line -->\n",
       "<polyline points=\" 6525,2025 7200,2025 6975,2250\" stroke=\"#000000\" stroke-width=\"15px\"/>\n",
       "<!-- Line -->\n",
       "<polyline points=\" 675,1800 675,1125 900,1350\" stroke=\"#000000\" stroke-width=\"15px\"/>\n",
       "<!-- Line -->\n",
       "<polyline points=\" 4050,-225 4050,-900 4275,-675\" stroke=\"#000000\" stroke-width=\"15px\"/>\n",
       "<!-- Line -->\n",
       "<polyline points=\" 4050,1800 4050,1125 4275,1350\" stroke=\"#000000\" stroke-width=\"15px\"/>\n",
       "<!-- Line -->\n",
       "<polyline points=\" 7425,1800 7425,1125 7650,1350\" stroke=\"#000000\" stroke-width=\"15px\"/>\n",
       "<!-- Line -->\n",
       "<polyline points=\" 3150,2025 3825,2025 3600,2250\" stroke=\"#000000\" stroke-width=\"15px\"/>\n",
       "<!-- Line -->\n",
       "<polyline points=\" 4275,2025 4950,2025 4725,2250\" stroke=\"#000000\" stroke-width=\"15px\"/>\n",
       "<!-- Line -->\n",
       "<polyline points=\" 5400,2025 6075,2025 5850,2250\" stroke=\"#000000\" stroke-width=\"15px\"/>\n",
       "<!-- Line -->\n",
       "<polyline points=\" 2025,2025 2700,2025 2475,2250\" stroke=\"#000000\" stroke-width=\"15px\"/>\n",
       "</g>\n",
       "</svg>"
      ],
      "text/plain": [
       "<IPython.core.display.SVG object>"
      ]
     },
     "execution_count": 2,
     "metadata": {},
     "output_type": "execute_result"
    }
   ],
   "source": [
    "disp.SVG('RE_abg.svg')"
   ]
  },
  {
   "cell_type": "markdown",
   "metadata": {},
   "source": [
    "This graphical representation may be converted to [bond-graph tools](https://pypi.org/project/BondGraphTools/) format using "
   ]
  },
  {
   "cell_type": "code",
   "execution_count": 3,
   "metadata": {},
   "outputs": [
    {
     "name": "stdout",
     "output_type": "stream",
     "text": [
      "{}\n"
     ]
    }
   ],
   "source": [
    "sbg.model('RE_abg.svg')\n",
    "import RE_abg"
   ]
  },
  {
   "cell_type": "markdown",
   "metadata": {},
   "source": [
    "## Reactions\n",
    "The reactions corresponding to this system are:"
   ]
  },
  {
   "cell_type": "code",
   "execution_count": 4,
   "metadata": {},
   "outputs": [
    {
     "data": {
      "text/latex": [
       "\\begin{align}\n",
       "A + E  &\\Leftrightarrow C \\\\\n",
       "C  &\\Leftrightarrow B + E \n",
       "\\end{align}\n"
      ],
      "text/plain": [
       "<IPython.core.display.Latex object>"
      ]
     },
     "execution_count": 4,
     "metadata": {},
     "output_type": "execute_result"
    }
   ],
   "source": [
    "s = st.stoich(RE_abg.model(),quiet=quiet)\n",
    "disp.Latex(st.sprintrl(s,chemformula=chemformula))"
   ]
  },
  {
   "cell_type": "markdown",
   "metadata": {},
   "source": [
    "## Stoichiometric matrix and its decomposition"
   ]
  },
  {
   "cell_type": "code",
   "execution_count": 5,
   "metadata": {},
   "outputs": [
    {
     "data": {
      "text/latex": [
       "\\begin{align}\n",
       "X&= \\begin{pmatrix}\n",
       "    X_{A}\\\\\n",
       "    X_{B}\\\\\n",
       "    X_{C}\\\\\n",
       "    X_{E}\\\\\n",
       "\\end{pmatrix}\n",
       "\\end{align}\n"
      ],
      "text/plain": [
       "<IPython.core.display.Latex object>"
      ]
     },
     "execution_count": 5,
     "metadata": {},
     "output_type": "execute_result"
    }
   ],
   "source": [
    "disp.Latex(st.sprintl(s,'species'))"
   ]
  },
  {
   "cell_type": "code",
   "execution_count": 6,
   "metadata": {},
   "outputs": [
    {
     "data": {
      "text/latex": [
       "\\begin{align}\n",
       "V&= \\begin{pmatrix}\n",
       "    V_{r1}\\\\\n",
       "    V_{r2}\\\\\n",
       "\\end{pmatrix}\n",
       "\\end{align}\n"
      ],
      "text/plain": [
       "<IPython.core.display.Latex object>"
      ]
     },
     "execution_count": 6,
     "metadata": {},
     "output_type": "execute_result"
    }
   ],
   "source": [
    "disp.Latex(st.sprintl(s,'reaction'))"
   ]
  },
  {
   "cell_type": "code",
   "execution_count": 7,
   "metadata": {},
   "outputs": [
    {
     "data": {
      "text/latex": [
       "\\begin{align}\n",
       "N &=\n",
       "\\left(\\begin{matrix}-1 & 0\\\\0 & 1\\\\1 & -1\\\\-1 & 1\\end{matrix}\\right)\n",
       "\\end{align}\n"
      ],
      "text/plain": [
       "<IPython.core.display.Latex object>"
      ]
     },
     "execution_count": 7,
     "metadata": {},
     "output_type": "execute_result"
    }
   ],
   "source": [
    "disp.Latex(st.sprintl(s,'N'))"
   ]
  },
  {
   "cell_type": "code",
   "execution_count": 8,
   "metadata": {},
   "outputs": [
    {
     "data": {
      "text/latex": [
       "\\begin{align}\n",
       "Z &=\n",
       "\\left(\\begin{matrix}1 & 0 & 0\\\\0 & 0 & 1\\\\0 & 1 & 0\\\\1 & 0 & 1\\end{matrix}\\right)\n",
       "\\end{align}\n"
      ],
      "text/plain": [
       "<IPython.core.display.Latex object>"
      ]
     },
     "execution_count": 8,
     "metadata": {},
     "output_type": "execute_result"
    }
   ],
   "source": [
    "disp.Latex(st.sprintl(s,'Z'))"
   ]
  },
  {
   "cell_type": "code",
   "execution_count": 9,
   "metadata": {},
   "outputs": [
    {
     "data": {
      "text/latex": [
       "\\begin{align}\n",
       "D &=\n",
       "\\left(\\begin{matrix}-1 & 0\\\\1 & -1\\\\0 & 1\\end{matrix}\\right)\n",
       "\\end{align}\n"
      ],
      "text/plain": [
       "<IPython.core.display.Latex object>"
      ]
     },
     "execution_count": 9,
     "metadata": {},
     "output_type": "execute_result"
    }
   ],
   "source": [
    "disp.Latex(st.sprintl(s,'D'))"
   ]
  },
  {
   "cell_type": "markdown",
   "metadata": {},
   "source": [
    "## System digraph"
   ]
  },
  {
   "cell_type": "code",
   "execution_count": 10,
   "metadata": {},
   "outputs": [
    {
     "name": "stdout",
     "output_type": "stream",
     "text": [
      "Complexes: ['A + E', 'C', 'B + E']\n"
     ]
    },
    {
     "data": {
      "image/png": "[encoded data removed]",
      "text/plain": [
       "<Figure size 640x480 with 1 Axes>"
      ]
     },
     "metadata": {},
     "output_type": "display_data"
    }
   ],
   "source": [
    "st.draw(s)"
   ]
  },
  {
   "cell_type": "markdown",
   "metadata": {},
   "source": [
    "## System digraph (with chemostats)"
   ]
  },
  {
   "cell_type": "code",
   "execution_count": 11,
   "metadata": {
    "scrolled": true
   },
   "outputs": [
    {
     "name": "stdout",
     "output_type": "stream",
     "text": [
      "Complexes: ['E', 'C']\n"
     ]
    },
    {
     "data": {
      "image/png": "[encoded data removed]",
      "text/plain": [
       "<Figure size 640x480 with 1 Axes>"
      ]
     },
     "metadata": {},
     "output_type": "display_data"
    }
   ],
   "source": [
    "chemostats = ['A','B']\n",
    "sc = st.statify(s,chemostats=chemostats)\n",
    "st.draw(sc)"
   ]
  },
  {
   "cell_type": "markdown",
   "metadata": {},
   "source": [
    "## Pathway analysis"
   ]
  },
  {
   "cell_type": "code",
   "execution_count": 12,
   "metadata": {},
   "outputs": [
    {
     "name": "stdout",
     "output_type": "stream",
     "text": [
      "1 pathways\n",
      "0:  + r1 + r2\n",
      "\n"
     ]
    },
    {
     "data": {
      "text/latex": [
       "\\begin{align}\n",
       "A  &\\Leftrightarrow B \n",
       "\\end{align}\n"
      ],
      "text/plain": [
       "<IPython.core.display.Latex object>"
      ]
     },
     "execution_count": 12,
     "metadata": {},
     "output_type": "execute_result"
    }
   ],
   "source": [
    "sp = st.path(s,sc)\n",
    "print(st.sprintp(sc))\n",
    "disp.Latex(st.sprintrl(sp,chemformula=chemformula))"
   ]
  },
  {
   "cell_type": "markdown",
   "metadata": {},
   "source": [
    "# Example 2: Transporter\n",
    "This example looks at bond graph representation of a membrane\n",
    "transporter which is discussed in detail by \n",
    "<cite data-cite=\"GawCra17\">(Gawthrop and Crampin, 2017)</cite> and analysed by\n",
    "<cite data-cite=\"GawCra18a\">(Gawthrop and Crampin, 2018)</cite>. "
   ]
  },
  {
   "cell_type": "code",
   "execution_count": 13,
   "metadata": {},
   "outputs": [
    {
     "data": {
      "image/svg+xml": [
       "<svg xmlns=\"http://www.w3.org/2000/svg\" xmlns:xlink=\"http://www.w3.org/1999/xlink\" width=\"479pt\" height=\"460pt\" viewBox=\"700 3175 7599 7288\">\n",
       "<g fill=\"none\">\n",
       "<!-- Line -->\n",
       "<polyline points=\" 3600,10125 4275,10125 4050,10350\" stroke=\"#000000\" stroke-width=\"15px\"/>\n",
       "<!-- Line -->\n",
       "<polyline points=\" 4725,10125 5400,10125 5175,10350\" stroke=\"#000000\" stroke-width=\"15px\"/>\n",
       "<!-- Line -->\n",
       "<polyline points=\" 5400,3375 4725,3375 4950,3600\" stroke=\"#000000\" stroke-width=\"15px\"/>\n",
       "<!-- Line -->\n",
       "<polyline points=\" 4275,3375 3600,3375 3825,3600\" stroke=\"#000000\" stroke-width=\"15px\"/>\n",
       "<!-- Line -->\n",
       "<polyline points=\" 3375,3600 3375,4275 3600,4050\" stroke=\"#000000\" stroke-width=\"15px\"/>\n",
       "<!-- Line -->\n",
       "<polyline points=\" 3375,4725 3375,5400 3600,5175\" stroke=\"#000000\" stroke-width=\"15px\"/>\n",
       "<!-- Line -->\n",
       "<polyline points=\" 3375,5850 3375,6525 3600,6300\" stroke=\"#000000\" stroke-width=\"15px\"/>\n",
       "<!-- Line -->\n",
       "<polyline points=\" 2475,4500 3150,4500 2925,4725\" stroke=\"#000000\" stroke-width=\"15px\"/>\n",
       "<!-- Line -->\n",
       "<polyline points=\" 3375,8100 3375,8775 3600,8550\" stroke=\"#000000\" stroke-width=\"15px\"/>\n",
       "<!-- Line -->\n",
       "<polyline points=\" 3375,9225 3375,9900 3600,9675\" stroke=\"#000000\" stroke-width=\"15px\"/>\n",
       "<!-- Line -->\n",
       "<polyline points=\" 2475,7875 3150,7875 2925,8100\" stroke=\"#000000\" stroke-width=\"15px\"/>\n",
       "<!-- Line -->\n",
       "<polyline points=\" 5625,9900 5625,9225 5850,9450\" stroke=\"#000000\" stroke-width=\"15px\"/>\n",
       "<!-- Line -->\n",
       "<polyline points=\" 5625,8775 5625,8100 5850,8325\" stroke=\"#000000\" stroke-width=\"15px\"/>\n",
       "<!-- Line -->\n",
       "<polyline points=\" 5625,7650 5625,6975 5850,7200\" stroke=\"#000000\" stroke-width=\"15px\"/>\n",
       "<!-- Line -->\n",
       "<polyline points=\" 5625,6525 5625,5850 5850,6075\" stroke=\"#000000\" stroke-width=\"15px\"/>\n",
       "<!-- Line -->\n",
       "<polyline points=\" 5625,5400 5625,4725 5850,4950\" stroke=\"#000000\" stroke-width=\"15px\"/>\n",
       "<!-- Line -->\n",
       "<polyline points=\" 5625,4275 5625,3600 5850,3825\" stroke=\"#000000\" stroke-width=\"15px\"/>\n",
       "<!-- Line -->\n",
       "<polyline points=\" 3375,6975 3375,7650 3600,7425\" stroke=\"#000000\" stroke-width=\"15px\"/>\n",
       "<!-- Line -->\n",
       "<polyline points=\" 6975,4500 7650,4500 7425,4725\" stroke=\"#000000\" stroke-width=\"15px\"/>\n",
       "<!-- Line -->\n",
       "<polyline points=\" 2025,4500 1350,4500 1575,4725\" stroke=\"#000000\" stroke-width=\"15px\"/>\n",
       "<!-- Line -->\n",
       "<polyline points=\" 2025,7875 1350,7875 1575,8100\" stroke=\"#000000\" stroke-width=\"15px\"/>\n",
       "<!-- Line -->\n",
       "<polyline points=\" 5850,4500 6525,4500 6300,4725\" stroke=\"#000000\" stroke-width=\"15px\"/>\n",
       "<!-- Line -->\n",
       "<polyline points=\" 6975,7875 7650,7875 7425,8100\" stroke=\"#000000\" stroke-width=\"15px\"/>\n",
       "<!-- Line -->\n",
       "<polyline points=\" 5850,7875 6525,7875 6300,8100\" stroke=\"#000000\" stroke-width=\"15px\"/>\n",
       "<!-- Line -->\n",
       "<polyline points=\" 3150,3375 2475,3375 2700,3600\" stroke=\"#000000\" stroke-width=\"15px\"/>\n",
       "<!-- Line -->\n",
       "<polyline points=\" 3150,6750 2475,6750 2700,6975\" stroke=\"#000000\" stroke-width=\"15px\"/>\n",
       "<!-- Line -->\n",
       "<polyline points=\" 3150,10125 2475,10125 2700,10350\" stroke=\"#000000\" stroke-width=\"15px\"/>\n",
       "<!-- Line -->\n",
       "<polyline points=\" 5850,10125 6525,10125 6300,10350\" stroke=\"#000000\" stroke-width=\"15px\"/>\n",
       "<!-- Line -->\n",
       "<polyline points=\" 5850,6750 6525,6750 6300,6975\" stroke=\"#000000\" stroke-width=\"15px\"/>\n",
       "<!-- Line -->\n",
       "<polyline points=\" 5850,3375 6525,3375 6300,3600\" stroke=\"#000000\" stroke-width=\"15px\"/>\n",
       "<!-- Text -->\n",
       "<g transform=\"translate(4590,3375) rotate(-90)\">\n",
       "<text xml:space=\"preserve\" x=\"0\" y=\"0\" fill=\"#000000\" font-family=\"Helvetica\" font-style=\"normal\" font-weight=\"bold\" font-size=\"216\" text-anchor=\"middle\">Re:e</text>\n",
       "</g><!-- Text -->\n",
       "<text xml:space=\"preserve\" x=\"3375\" y=\"3465\" fill=\"#000000\" font-family=\"Helvetica\" font-style=\"normal\" font-weight=\"bold\" font-size=\"216\" text-anchor=\"middle\">0</text>\n",
       "<!-- Text -->\n",
       "<text xml:space=\"preserve\" x=\"3375\" y=\"4590\" fill=\"#000000\" font-family=\"Helvetica\" font-style=\"normal\" font-weight=\"bold\" font-size=\"216\" text-anchor=\"middle\">1</text>\n",
       "<!-- Text -->\n",
       "<text xml:space=\"preserve\" x=\"3375\" y=\"5715\" fill=\"#000000\" font-family=\"Helvetica\" font-style=\"normal\" font-weight=\"bold\" font-size=\"216\" text-anchor=\"middle\">Re:em</text>\n",
       "<!-- Text -->\n",
       "<text xml:space=\"preserve\" x=\"3375\" y=\"6840\" fill=\"#000000\" font-family=\"Helvetica\" font-style=\"normal\" font-weight=\"bold\" font-size=\"216\" text-anchor=\"middle\">0</text>\n",
       "<!-- Text -->\n",
       "<text xml:space=\"preserve\" x=\"3375\" y=\"7965\" fill=\"#000000\" font-family=\"Helvetica\" font-style=\"normal\" font-weight=\"bold\" font-size=\"216\" text-anchor=\"middle\">1</text>\n",
       "<!-- Text -->\n",
       "<text xml:space=\"preserve\" x=\"3375\" y=\"9090\" fill=\"#000000\" font-family=\"Helvetica\" font-style=\"normal\" font-weight=\"bold\" font-size=\"216\" text-anchor=\"middle\">Re:lem</text>\n",
       "<!-- Text -->\n",
       "<text xml:space=\"preserve\" x=\"3375\" y=\"10230\" fill=\"#000000\" font-family=\"Helvetica\" font-style=\"normal\" font-weight=\"bold\" font-size=\"216\" text-anchor=\"middle\">0</text>\n",
       "<!-- Text -->\n",
       "<text xml:space=\"preserve\" x=\"5625\" y=\"10230\" fill=\"#000000\" font-family=\"Helvetica\" font-style=\"normal\" font-weight=\"bold\" font-size=\"216\" text-anchor=\"middle\">0</text>\n",
       "<!-- Text -->\n",
       "<text xml:space=\"preserve\" x=\"5625\" y=\"6855\" fill=\"#000000\" font-family=\"Helvetica\" font-style=\"normal\" font-weight=\"bold\" font-size=\"216\" text-anchor=\"middle\">0</text>\n",
       "<!-- Text -->\n",
       "<text xml:space=\"preserve\" x=\"5625\" y=\"3480\" fill=\"#000000\" font-family=\"Helvetica\" font-style=\"normal\" font-weight=\"bold\" font-size=\"216\" text-anchor=\"middle\">0</text>\n",
       "<!-- Text -->\n",
       "<text xml:space=\"preserve\" x=\"5625\" y=\"9120\" fill=\"#000000\" font-family=\"Helvetica\" font-style=\"normal\" font-weight=\"bold\" font-size=\"216\" text-anchor=\"middle\">Re:esm</text>\n",
       "<!-- Text -->\n",
       "<text xml:space=\"preserve\" x=\"5625\" y=\"7980\" fill=\"#000000\" font-family=\"Helvetica\" font-style=\"normal\" font-weight=\"bold\" font-size=\"216\" text-anchor=\"middle\">1</text>\n",
       "<!-- Text -->\n",
       "<text xml:space=\"preserve\" x=\"5625\" y=\"5745\" fill=\"#000000\" font-family=\"Helvetica\" font-style=\"normal\" font-weight=\"bold\" font-size=\"216\" text-anchor=\"middle\">Re:es</text>\n",
       "<!-- Text -->\n",
       "<text xml:space=\"preserve\" x=\"5625\" y=\"4605\" fill=\"#000000\" font-family=\"Helvetica\" font-style=\"normal\" font-weight=\"bold\" font-size=\"216\" text-anchor=\"middle\">1</text>\n",
       "<!-- Text -->\n",
       "<g transform=\"translate(4620,10125) rotate(-90)\">\n",
       "<text xml:space=\"preserve\" x=\"0\" y=\"0\" fill=\"#000000\" font-family=\"Helvetica\" font-style=\"normal\" font-weight=\"bold\" font-size=\"216\" text-anchor=\"middle\">Re:lesm</text>\n",
       "</g><!-- Text -->\n",
       "<text xml:space=\"preserve\" x=\"8100\" y=\"4620\" fill=\"#000000\" font-family=\"Helvetica\" font-style=\"normal\" font-weight=\"bold\" font-size=\"216\" text-anchor=\"middle\">C:Mo</text>\n",
       "<!-- Text -->\n",
       "<text xml:space=\"preserve\" x=\"8100\" y=\"7995\" fill=\"#000000\" font-family=\"Helvetica\" font-style=\"normal\" font-weight=\"bold\" font-size=\"216\" text-anchor=\"middle\">C:Lo</text>\n",
       "<!-- Text -->\n",
       "<text xml:space=\"preserve\" x=\"900\" y=\"4590\" fill=\"#000000\" font-family=\"Helvetica\" font-style=\"normal\" font-weight=\"bold\" font-size=\"216\" text-anchor=\"middle\">C:Mi</text>\n",
       "<!-- Text -->\n",
       "<text xml:space=\"preserve\" x=\"900\" y=\"7965\" fill=\"#000000\" font-family=\"Helvetica\" font-style=\"normal\" font-weight=\"bold\" font-size=\"216\" text-anchor=\"middle\">C:Li</text>\n",
       "<!-- Text -->\n",
       "<text xml:space=\"preserve\" x=\"2340\" y=\"3465\" fill=\"#000000\" font-family=\"Helvetica\" font-style=\"normal\" font-weight=\"bold\" font-size=\"216\" text-anchor=\"end\">C:E</text>\n",
       "<!-- Text -->\n",
       "<text xml:space=\"preserve\" x=\"2340\" y=\"10215\" fill=\"#000000\" font-family=\"Helvetica\" font-style=\"normal\" font-weight=\"bold\" font-size=\"216\" text-anchor=\"end\">C:LEM</text>\n",
       "<!-- Text -->\n",
       "<text xml:space=\"preserve\" x=\"2340\" y=\"6840\" fill=\"#000000\" font-family=\"Helvetica\" font-style=\"normal\" font-weight=\"bold\" font-size=\"216\" text-anchor=\"end\">C:EM</text>\n",
       "<!-- Text -->\n",
       "<text xml:space=\"preserve\" x=\"6660\" y=\"10245\" fill=\"#000000\" font-family=\"Helvetica\" font-style=\"normal\" font-weight=\"bold\" font-size=\"216\" text-anchor=\"start\">C:LEsM</text>\n",
       "<!-- Text -->\n",
       "<text xml:space=\"preserve\" x=\"6660\" y=\"6870\" fill=\"#000000\" font-family=\"Helvetica\" font-style=\"normal\" font-weight=\"bold\" font-size=\"216\" text-anchor=\"start\">C:EsM</text>\n",
       "<!-- Text -->\n",
       "<text xml:space=\"preserve\" x=\"6660\" y=\"3495\" fill=\"#000000\" font-family=\"Helvetica\" font-style=\"normal\" font-weight=\"bold\" font-size=\"216\" text-anchor=\"start\">C:Es</text>\n",
       "<!-- Text -->\n",
       "<text xml:space=\"preserve\" x=\"2250\" y=\"4590\" fill=\"#000000\" font-family=\"Helvetica\" font-style=\"normal\" font-weight=\"bold\" font-size=\"216\" text-anchor=\"middle\">0</text>\n",
       "<!-- Text -->\n",
       "<text xml:space=\"preserve\" x=\"2250\" y=\"7965\" fill=\"#000000\" font-family=\"Helvetica\" font-style=\"normal\" font-weight=\"bold\" font-size=\"216\" text-anchor=\"middle\">0</text>\n",
       "<!-- Text -->\n",
       "<text xml:space=\"preserve\" x=\"6750\" y=\"7965\" fill=\"#000000\" font-family=\"Helvetica\" font-style=\"normal\" font-weight=\"bold\" font-size=\"216\" text-anchor=\"middle\">0</text>\n",
       "<!-- Text -->\n",
       "<text xml:space=\"preserve\" x=\"6750\" y=\"4590\" fill=\"#000000\" font-family=\"Helvetica\" font-style=\"normal\" font-weight=\"bold\" font-size=\"216\" text-anchor=\"middle\">0</text>\n",
       "</g>\n",
       "</svg>"
      ],
      "text/plain": [
       "<IPython.core.display.SVG object>"
      ]
     },
     "execution_count": 13,
     "metadata": {},
     "output_type": "execute_result"
    }
   ],
   "source": [
    "disp.SVG('Hill_abg.svg')"
   ]
  },
  {
   "cell_type": "markdown",
   "metadata": {},
   "source": [
    "This graphical representation may be converted to [bond-graph tools](https://pypi.org/project/BondGraphTools/) format using "
   ]
  },
  {
   "cell_type": "code",
   "execution_count": 14,
   "metadata": {},
   "outputs": [
    {
     "name": "stdout",
     "output_type": "stream",
     "text": [
      "{}\n"
     ]
    }
   ],
   "source": [
    "sbg.model('Hill_abg.svg')\n",
    "import Hill_abg\n"
   ]
  },
  {
   "cell_type": "markdown",
   "metadata": {},
   "source": [
    "## Reactions\n",
    "The reactions corresponding to this system are:"
   ]
  },
  {
   "cell_type": "code",
   "execution_count": 15,
   "metadata": {},
   "outputs": [
    {
     "data": {
      "text/latex": [
       "\\begin{align}\n",
       "Es  &\\Leftrightarrow E \\\\\n",
       "E + Mi  &\\Leftrightarrow EM \\\\\n",
       "EsM  &\\Leftrightarrow Es + Mo \\\\\n",
       "LEsM  &\\Leftrightarrow EsM + Lo \\\\\n",
       "EM + Li  &\\Leftrightarrow LEM \\\\\n",
       "LEM  &\\Leftrightarrow LEsM \n",
       "\\end{align}\n"
      ],
      "text/plain": [
       "<IPython.core.display.Latex object>"
      ]
     },
     "execution_count": 15,
     "metadata": {},
     "output_type": "execute_result"
    }
   ],
   "source": [
    "s = st.stoich(Hill_abg.model(),quiet=quiet)\n",
    "disp.Latex(st.sprintrl(s,chemformula=chemformula))"
   ]
  },
  {
   "cell_type": "markdown",
   "metadata": {},
   "source": [
    "## Stoichiometric matrix and its decomposition"
   ]
  },
  {
   "cell_type": "code",
   "execution_count": 16,
   "metadata": {},
   "outputs": [
    {
     "data": {
      "text/latex": [
       "\\begin{align}\n",
       "X&= \\begin{pmatrix}\n",
       "    X_{E}\\\\\n",
       "    X_{EM}\\\\\n",
       "    X_{Es}\\\\\n",
       "    X_{EsM}\\\\\n",
       "    X_{LEM}\\\\\n",
       "    X_{LEsM}\\\\\n",
       "    X_{Li}\\\\\n",
       "    X_{Lo}\\\\\n",
       "    X_{Mi}\\\\\n",
       "    X_{Mo}\\\\\n",
       "\\end{pmatrix}\n",
       "\\end{align}\n"
      ],
      "text/plain": [
       "<IPython.core.display.Latex object>"
      ]
     },
     "execution_count": 16,
     "metadata": {},
     "output_type": "execute_result"
    }
   ],
   "source": [
    "disp.Latex(st.sprintl(s,'species'))"
   ]
  },
  {
   "cell_type": "code",
   "execution_count": 17,
   "metadata": {},
   "outputs": [
    {
     "data": {
      "text/latex": [
       "\\begin{align}\n",
       "V&= \\begin{pmatrix}\n",
       "    V_{e}\\\\\n",
       "    V_{em}\\\\\n",
       "    V_{es}\\\\\n",
       "    V_{esm}\\\\\n",
       "    V_{lem}\\\\\n",
       "    V_{lesm}\\\\\n",
       "\\end{pmatrix}\n",
       "\\end{align}\n"
      ],
      "text/plain": [
       "<IPython.core.display.Latex object>"
      ]
     },
     "execution_count": 17,
     "metadata": {},
     "output_type": "execute_result"
    }
   ],
   "source": [
    "disp.Latex(st.sprintl(s,'reaction'))"
   ]
  },
  {
   "cell_type": "code",
   "execution_count": 18,
   "metadata": {},
   "outputs": [
    {
     "data": {
      "text/latex": [
       "\\begin{align}\n",
       "N &=\n",
       "\\left(\\begin{matrix}1 & -1 & 0 & 0 & 0 & 0\\\\0 & 1 & 0 & 0 & -1 & 0\\\\-1 & 0 & 1 & 0 & 0 & 0\\\\0 & 0 & -1 & 1 & 0 & 0\\\\0 & 0 & 0 & 0 & 1 & -1\\\\0 & 0 & 0 & -1 & 0 & 1\\\\0 & 0 & 0 & 0 & -1 & 0\\\\0 & 0 & 0 & 1 & 0 & 0\\\\0 & -1 & 0 & 0 & 0 & 0\\\\0 & 0 & 1 & 0 & 0 & 0\\end{matrix}\\right)\n",
       "\\end{align}\n"
      ],
      "text/plain": [
       "<IPython.core.display.Latex object>"
      ]
     },
     "execution_count": 18,
     "metadata": {},
     "output_type": "execute_result"
    }
   ],
   "source": [
    "disp.Latex(st.sprintl(s,'N'))"
   ]
  },
  {
   "cell_type": "code",
   "execution_count": 19,
   "metadata": {},
   "outputs": [
    {
     "data": {
      "text/latex": [
       "\\begin{align}\n",
       "Z &=\n",
       "\\left(\\begin{matrix}0 & 1 & 0 & 0 & 0 & 0 & 1 & 0 & 0 & 0\\\\0 & 0 & 0 & 0 & 1 & 0 & 0 & 1 & 0 & 0\\\\1 & 0 & 0 & 0 & 0 & 0 & 0 & 0 & 1 & 0\\\\0 & 0 & 1 & 0 & 0 & 0 & 0 & 0 & 0 & 1\\\\0 & 0 & 0 & 0 & 0 & 1 & 0 & 0 & 0 & 0\\\\0 & 0 & 0 & 1 & 0 & 0 & 0 & 0 & 0 & 0\\\\0 & 0 & 0 & 0 & 1 & 0 & 0 & 0 & 0 & 0\\\\0 & 0 & 0 & 0 & 0 & 0 & 0 & 0 & 0 & 1\\\\0 & 1 & 0 & 0 & 0 & 0 & 0 & 0 & 0 & 0\\\\0 & 0 & 0 & 0 & 0 & 0 & 0 & 0 & 1 & 0\\end{matrix}\\right)\n",
       "\\end{align}\n"
      ],
      "text/plain": [
       "<IPython.core.display.Latex object>"
      ]
     },
     "execution_count": 19,
     "metadata": {},
     "output_type": "execute_result"
    }
   ],
   "source": [
    "disp.Latex(st.sprintl(s,'Z'))"
   ]
  },
  {
   "cell_type": "code",
   "execution_count": 20,
   "metadata": {},
   "outputs": [
    {
     "data": {
      "text/latex": [
       "\\begin{align}\n",
       "D &=\n",
       "\\left(\\begin{matrix}-1 & 0 & 0 & 0 & 0 & 0\\\\0 & -1 & 0 & 0 & 0 & 0\\\\0 & 0 & -1 & 0 & 0 & 0\\\\0 & 0 & 0 & -1 & 0 & 1\\\\0 & 0 & 0 & 0 & -1 & 0\\\\0 & 0 & 0 & 0 & 1 & -1\\\\1 & 0 & 0 & 0 & 0 & 0\\\\0 & 1 & 0 & 0 & 0 & 0\\\\0 & 0 & 1 & 0 & 0 & 0\\\\0 & 0 & 0 & 1 & 0 & 0\\end{matrix}\\right)\n",
       "\\end{align}\n"
      ],
      "text/plain": [
       "<IPython.core.display.Latex object>"
      ]
     },
     "execution_count": 20,
     "metadata": {},
     "output_type": "execute_result"
    }
   ],
   "source": [
    "disp.Latex(st.sprintl(s,'D'))"
   ]
  },
  {
   "cell_type": "markdown",
   "metadata": {},
   "source": [
    "## System digraph"
   ]
  },
  {
   "cell_type": "code",
   "execution_count": 21,
   "metadata": {},
   "outputs": [
    {
     "name": "stdout",
     "output_type": "stream",
     "text": [
      "Complexes: ['Es', 'E + Mi', 'EsM', 'LEsM', 'EM + Li', 'LEM', 'E', 'EM', 'Es + Mo', 'EsM + Lo']\n"
     ]
    },
    {
     "data": {
      "image/png": "[encoded data removed]",
      "text/plain": [
       "<Figure size 640x480 with 1 Axes>"
      ]
     },
     "metadata": {},
     "output_type": "display_data"
    }
   ],
   "source": [
    "st.draw(s)"
   ]
  },
  {
   "cell_type": "markdown",
   "metadata": {},
   "source": [
    "## System digraph (with chemostats)"
   ]
  },
  {
   "cell_type": "code",
   "execution_count": 22,
   "metadata": {
    "scrolled": true
   },
   "outputs": [
    {
     "name": "stdout",
     "output_type": "stream",
     "text": [
      "Complexes: ['Es', 'E', 'EsM', 'LEsM', 'EM', 'LEM']\n"
     ]
    },
    {
     "data": {
      "image/png": "[encoded data removed]",
      "text/plain": [
       "<Figure size 640x480 with 1 Axes>"
      ]
     },
     "metadata": {},
     "output_type": "display_data"
    }
   ],
   "source": [
    "chemostats = ['Mi','Mo','Li','Lo']\n",
    "sc = st.statify(s,chemostats=chemostats)\n",
    "st.draw(sc)"
   ]
  },
  {
   "cell_type": "markdown",
   "metadata": {},
   "source": [
    "## Pathway analysis"
   ]
  },
  {
   "cell_type": "code",
   "execution_count": 23,
   "metadata": {},
   "outputs": [
    {
     "name": "stdout",
     "output_type": "stream",
     "text": [
      "1 pathways\n",
      "0:  + e + em + es + esm + lem + lesm\n",
      "\n"
     ]
    },
    {
     "data": {
      "text/latex": [
       "\\begin{align}\n",
       "Li + Mi  &\\Leftrightarrow Lo + Mo \n",
       "\\end{align}\n"
      ],
      "text/plain": [
       "<IPython.core.display.Latex object>"
      ]
     },
     "execution_count": 23,
     "metadata": {},
     "output_type": "execute_result"
    }
   ],
   "source": [
    "sp = st.path(s,sc)\n",
    "print(st.sprintp(sc))\n",
    "disp.Latex(st.sprintrl(sp,chemformula=chemformula))"
   ]
  },
  {
   "cell_type": "markdown",
   "metadata": {},
   "source": [
    "# Example 3: Transporter with slippage"
   ]
  },
  {
   "cell_type": "code",
   "execution_count": 24,
   "metadata": {},
   "outputs": [
    {
     "name": "stdout",
     "output_type": "stream",
     "text": [
      "{}\n"
     ]
    },
    {
     "data": {
      "image/svg+xml": [
       "<svg xmlns=\"http://www.w3.org/2000/svg\" xmlns:xlink=\"http://www.w3.org/1999/xlink\" width=\"502pt\" height=\"487pt\" viewBox=\"538 3021 7969 7726\">\n",
       "<g fill=\"none\">\n",
       "<!-- Line -->\n",
       "<polyline points=\" 3600,10125 4275,10125 4050,10350\" stroke=\"#000000\" stroke-width=\"15px\"/>\n",
       "<!-- Line -->\n",
       "<polyline points=\" 4725,10125 5400,10125 5175,10350\" stroke=\"#000000\" stroke-width=\"15px\"/>\n",
       "<!-- Line -->\n",
       "<polyline points=\" 5400,3375 4725,3375 4950,3600\" stroke=\"#000000\" stroke-width=\"15px\"/>\n",
       "<!-- Line -->\n",
       "<polyline points=\" 4275,3375 3600,3375 3825,3600\" stroke=\"#000000\" stroke-width=\"15px\"/>\n",
       "<!-- Line -->\n",
       "<polyline points=\" 3375,3600 3375,4275 3600,4050\" stroke=\"#000000\" stroke-width=\"15px\"/>\n",
       "<!-- Line -->\n",
       "<polyline points=\" 3375,4725 3375,5400 3600,5175\" stroke=\"#000000\" stroke-width=\"15px\"/>\n",
       "<!-- Line -->\n",
       "<polyline points=\" 3375,5850 3375,6525 3600,6300\" stroke=\"#000000\" stroke-width=\"15px\"/>\n",
       "<!-- Line -->\n",
       "<polyline points=\" 2475,4500 3150,4500 2925,4725\" stroke=\"#000000\" stroke-width=\"15px\"/>\n",
       "<!-- Line -->\n",
       "<polyline points=\" 3375,8100 3375,8775 3600,8550\" stroke=\"#000000\" stroke-width=\"15px\"/>\n",
       "<!-- Line -->\n",
       "<polyline points=\" 3375,9225 3375,9900 3600,9675\" stroke=\"#000000\" stroke-width=\"15px\"/>\n",
       "<!-- Line -->\n",
       "<polyline points=\" 2475,7875 3150,7875 2925,8100\" stroke=\"#000000\" stroke-width=\"15px\"/>\n",
       "<!-- Line -->\n",
       "<polyline points=\" 5625,9900 5625,9225 5850,9450\" stroke=\"#000000\" stroke-width=\"15px\"/>\n",
       "<!-- Line -->\n",
       "<polyline points=\" 5625,8775 5625,8100 5850,8325\" stroke=\"#000000\" stroke-width=\"15px\"/>\n",
       "<!-- Line -->\n",
       "<polyline points=\" 5625,7650 5625,6975 5850,7200\" stroke=\"#000000\" stroke-width=\"15px\"/>\n",
       "<!-- Line -->\n",
       "<polyline points=\" 5625,6525 5625,5850 5850,6075\" stroke=\"#000000\" stroke-width=\"15px\"/>\n",
       "<!-- Line -->\n",
       "<polyline points=\" 5625,5400 5625,4725 5850,4950\" stroke=\"#000000\" stroke-width=\"15px\"/>\n",
       "<!-- Line -->\n",
       "<polyline points=\" 5625,4275 5625,3600 5850,3825\" stroke=\"#000000\" stroke-width=\"15px\"/>\n",
       "<!-- Line -->\n",
       "<polyline points=\" 3375,6975 3375,7650 3600,7425\" stroke=\"#000000\" stroke-width=\"15px\"/>\n",
       "<!-- Line -->\n",
       "<polyline points=\" 6975,4500 7650,4500 7425,4725\" stroke=\"#000000\" stroke-width=\"15px\"/>\n",
       "<!-- Line -->\n",
       "<polyline points=\" 2025,4500 1350,4500 1575,4725\" stroke=\"#000000\" stroke-width=\"15px\"/>\n",
       "<!-- Line -->\n",
       "<polyline points=\" 2025,7875 1350,7875 1575,8100\" stroke=\"#000000\" stroke-width=\"15px\"/>\n",
       "<!-- Line -->\n",
       "<polyline points=\" 5850,4500 6525,4500 6300,4725\" stroke=\"#000000\" stroke-width=\"15px\"/>\n",
       "<!-- Line -->\n",
       "<polyline points=\" 6975,7875 7650,7875 7425,8100\" stroke=\"#000000\" stroke-width=\"15px\"/>\n",
       "<!-- Line -->\n",
       "<polyline points=\" 5850,7875 6525,7875 6300,8100\" stroke=\"#000000\" stroke-width=\"15px\"/>\n",
       "<!-- Line -->\n",
       "<polyline points=\" 3150,3375 2475,3375 2700,3600\" stroke=\"#000000\" stroke-width=\"15px\"/>\n",
       "<!-- Line -->\n",
       "<polyline points=\" 3150,6750 2475,6750 2700,6975\" stroke=\"#000000\" stroke-width=\"15px\"/>\n",
       "<!-- Line -->\n",
       "<polyline points=\" 3150,10125 2475,10125 2700,10350\" stroke=\"#000000\" stroke-width=\"15px\"/>\n",
       "<!-- Line -->\n",
       "<polyline points=\" 5850,10125 6525,10125 6300,10350\" stroke=\"#000000\" stroke-width=\"15px\"/>\n",
       "<!-- Line -->\n",
       "<polyline points=\" 5850,6750 6525,6750 6300,6975\" stroke=\"#000000\" stroke-width=\"15px\"/>\n",
       "<!-- Line -->\n",
       "<polyline points=\" 5850,3375 6525,3375 6300,3600\" stroke=\"#000000\" stroke-width=\"15px\"/>\n",
       "<!-- Line -->\n",
       "<polyline points=\" 3600,6750 4275,6750 4050,6975\" stroke=\"#000000\" stroke-width=\"15px\"/>\n",
       "<!-- Line -->\n",
       "<polyline points=\" 4725,6750 5400,6750 5175,6975\" stroke=\"#000000\" stroke-width=\"15px\"/>\n",
       "<!-- Text -->\n",
       "<g transform=\"translate(4590,3375) rotate(-90)\">\n",
       "<text xml:space=\"preserve\" x=\"0\" y=\"0\" fill=\"#000000\" font-family=\"Helvetica\" font-style=\"normal\" font-weight=\"bold\" font-size=\"216\" text-anchor=\"middle\">Re:e</text>\n",
       "</g><!-- Text -->\n",
       "<text xml:space=\"preserve\" x=\"3375\" y=\"3465\" fill=\"#000000\" font-family=\"Helvetica\" font-style=\"normal\" font-weight=\"bold\" font-size=\"216\" text-anchor=\"middle\">0</text>\n",
       "<!-- Text -->\n",
       "<text xml:space=\"preserve\" x=\"3375\" y=\"4590\" fill=\"#000000\" font-family=\"Helvetica\" font-style=\"normal\" font-weight=\"bold\" font-size=\"216\" text-anchor=\"middle\">1</text>\n",
       "<!-- Text -->\n",
       "<text xml:space=\"preserve\" x=\"3375\" y=\"5715\" fill=\"#000000\" font-family=\"Helvetica\" font-style=\"normal\" font-weight=\"bold\" font-size=\"216\" text-anchor=\"middle\">Re:em</text>\n",
       "<!-- Text -->\n",
       "<text xml:space=\"preserve\" x=\"3375\" y=\"6840\" fill=\"#000000\" font-family=\"Helvetica\" font-style=\"normal\" font-weight=\"bold\" font-size=\"216\" text-anchor=\"middle\">0</text>\n",
       "<!-- Text -->\n",
       "<text xml:space=\"preserve\" x=\"3375\" y=\"7965\" fill=\"#000000\" font-family=\"Helvetica\" font-style=\"normal\" font-weight=\"bold\" font-size=\"216\" text-anchor=\"middle\">1</text>\n",
       "<!-- Text -->\n",
       "<text xml:space=\"preserve\" x=\"3375\" y=\"9090\" fill=\"#000000\" font-family=\"Helvetica\" font-style=\"normal\" font-weight=\"bold\" font-size=\"216\" text-anchor=\"middle\">Re:lem</text>\n",
       "<!-- Text -->\n",
       "<text xml:space=\"preserve\" x=\"3375\" y=\"10230\" fill=\"#000000\" font-family=\"Helvetica\" font-style=\"normal\" font-weight=\"bold\" font-size=\"216\" text-anchor=\"middle\">0</text>\n",
       "<!-- Text -->\n",
       "<text xml:space=\"preserve\" x=\"5625\" y=\"10230\" fill=\"#000000\" font-family=\"Helvetica\" font-style=\"normal\" font-weight=\"bold\" font-size=\"216\" text-anchor=\"middle\">0</text>\n",
       "<!-- Text -->\n",
       "<text xml:space=\"preserve\" x=\"5625\" y=\"6855\" fill=\"#000000\" font-family=\"Helvetica\" font-style=\"normal\" font-weight=\"bold\" font-size=\"216\" text-anchor=\"middle\">0</text>\n",
       "<!-- Text -->\n",
       "<text xml:space=\"preserve\" x=\"5625\" y=\"3480\" fill=\"#000000\" font-family=\"Helvetica\" font-style=\"normal\" font-weight=\"bold\" font-size=\"216\" text-anchor=\"middle\">0</text>\n",
       "<!-- Text -->\n",
       "<text xml:space=\"preserve\" x=\"5625\" y=\"9120\" fill=\"#000000\" font-family=\"Helvetica\" font-style=\"normal\" font-weight=\"bold\" font-size=\"216\" text-anchor=\"middle\">Re:esm</text>\n",
       "<!-- Text -->\n",
       "<text xml:space=\"preserve\" x=\"5625\" y=\"7980\" fill=\"#000000\" font-family=\"Helvetica\" font-style=\"normal\" font-weight=\"bold\" font-size=\"216\" text-anchor=\"middle\">1</text>\n",
       "<!-- Text -->\n",
       "<text xml:space=\"preserve\" x=\"5625\" y=\"5745\" fill=\"#000000\" font-family=\"Helvetica\" font-style=\"normal\" font-weight=\"bold\" font-size=\"216\" text-anchor=\"middle\">Re:es</text>\n",
       "<!-- Text -->\n",
       "<text xml:space=\"preserve\" x=\"5625\" y=\"4605\" fill=\"#000000\" font-family=\"Helvetica\" font-style=\"normal\" font-weight=\"bold\" font-size=\"216\" text-anchor=\"middle\">1</text>\n",
       "<!-- Text -->\n",
       "<g transform=\"translate(4620,10125) rotate(-90)\">\n",
       "<text xml:space=\"preserve\" x=\"0\" y=\"0\" fill=\"#000000\" font-family=\"Helvetica\" font-style=\"normal\" font-weight=\"bold\" font-size=\"216\" text-anchor=\"middle\">Re:lesm</text>\n",
       "</g><!-- Text -->\n",
       "<text xml:space=\"preserve\" x=\"8100\" y=\"4620\" fill=\"#000000\" font-family=\"Helvetica\" font-style=\"normal\" font-weight=\"bold\" font-size=\"216\" text-anchor=\"middle\">C:Mo</text>\n",
       "<!-- Text -->\n",
       "<text xml:space=\"preserve\" x=\"8100\" y=\"7995\" fill=\"#000000\" font-family=\"Helvetica\" font-style=\"normal\" font-weight=\"bold\" font-size=\"216\" text-anchor=\"middle\">C:Lo</text>\n",
       "<!-- Text -->\n",
       "<text xml:space=\"preserve\" x=\"900\" y=\"4590\" fill=\"#000000\" font-family=\"Helvetica\" font-style=\"normal\" font-weight=\"bold\" font-size=\"216\" text-anchor=\"middle\">C:Mi</text>\n",
       "<!-- Text -->\n",
       "<text xml:space=\"preserve\" x=\"900\" y=\"7965\" fill=\"#000000\" font-family=\"Helvetica\" font-style=\"normal\" font-weight=\"bold\" font-size=\"216\" text-anchor=\"middle\">C:Li</text>\n",
       "<!-- Text -->\n",
       "<text xml:space=\"preserve\" x=\"2340\" y=\"3465\" fill=\"#000000\" font-family=\"Helvetica\" font-style=\"normal\" font-weight=\"bold\" font-size=\"216\" text-anchor=\"end\">C:E</text>\n",
       "<!-- Text -->\n",
       "<text xml:space=\"preserve\" x=\"2340\" y=\"10215\" fill=\"#000000\" font-family=\"Helvetica\" font-style=\"normal\" font-weight=\"bold\" font-size=\"216\" text-anchor=\"end\">C:LEM</text>\n",
       "<!-- Text -->\n",
       "<text xml:space=\"preserve\" x=\"2340\" y=\"6840\" fill=\"#000000\" font-family=\"Helvetica\" font-style=\"normal\" font-weight=\"bold\" font-size=\"216\" text-anchor=\"end\">C:EM</text>\n",
       "<!-- Text -->\n",
       "<text xml:space=\"preserve\" x=\"6660\" y=\"10245\" fill=\"#000000\" font-family=\"Helvetica\" font-style=\"normal\" font-weight=\"bold\" font-size=\"216\" text-anchor=\"start\">C:LEsM</text>\n",
       "<!-- Text -->\n",
       "<text xml:space=\"preserve\" x=\"6660\" y=\"6870\" fill=\"#000000\" font-family=\"Helvetica\" font-style=\"normal\" font-weight=\"bold\" font-size=\"216\" text-anchor=\"start\">C:EsM</text>\n",
       "<!-- Text -->\n",
       "<text xml:space=\"preserve\" x=\"6660\" y=\"3495\" fill=\"#000000\" font-family=\"Helvetica\" font-style=\"normal\" font-weight=\"bold\" font-size=\"216\" text-anchor=\"start\">C:Es</text>\n",
       "<!-- Text -->\n",
       "<text xml:space=\"preserve\" x=\"2250\" y=\"4590\" fill=\"#000000\" font-family=\"Helvetica\" font-style=\"normal\" font-weight=\"bold\" font-size=\"216\" text-anchor=\"middle\">0</text>\n",
       "<!-- Text -->\n",
       "<text xml:space=\"preserve\" x=\"2250\" y=\"7965\" fill=\"#000000\" font-family=\"Helvetica\" font-style=\"normal\" font-weight=\"bold\" font-size=\"216\" text-anchor=\"middle\">0</text>\n",
       "<!-- Text -->\n",
       "<text xml:space=\"preserve\" x=\"6750\" y=\"7965\" fill=\"#000000\" font-family=\"Helvetica\" font-style=\"normal\" font-weight=\"bold\" font-size=\"216\" text-anchor=\"middle\">0</text>\n",
       "<!-- Text -->\n",
       "<text xml:space=\"preserve\" x=\"6750\" y=\"4590\" fill=\"#000000\" font-family=\"Helvetica\" font-style=\"normal\" font-weight=\"bold\" font-size=\"216\" text-anchor=\"middle\">0</text>\n",
       "<!-- Text -->\n",
       "<g transform=\"translate(4620,6750) rotate(-90)\">\n",
       "<text xml:space=\"preserve\" x=\"0\" y=\"0\" fill=\"#000000\" font-family=\"Helvetica\" font-style=\"normal\" font-weight=\"bold\" font-size=\"216\" text-anchor=\"middle\">Re:slip</text>\n",
       "</g></g>\n",
       "</svg>"
      ],
      "text/plain": [
       "<IPython.core.display.SVG object>"
      ]
     },
     "execution_count": 24,
     "metadata": {},
     "output_type": "execute_result"
    }
   ],
   "source": [
    "sbg.model('Hills_abg.svg')\n",
    "import Hills_abg\n",
    "disp.SVG('Hills_abg.svg')"
   ]
  },
  {
   "cell_type": "markdown",
   "metadata": {},
   "source": [
    "## Reactions\n",
    "The reactions corresponding to this system are:"
   ]
  },
  {
   "cell_type": "code",
   "execution_count": 25,
   "metadata": {},
   "outputs": [
    {
     "data": {
      "text/latex": [
       "\\begin{align}\n",
       "Es  &\\Leftrightarrow E \\\\\n",
       "E + Mi  &\\Leftrightarrow EM \\\\\n",
       "EsM  &\\Leftrightarrow Es + Mo \\\\\n",
       "LEsM  &\\Leftrightarrow EsM + Lo \\\\\n",
       "EM + Li  &\\Leftrightarrow LEM \\\\\n",
       "LEM  &\\Leftrightarrow LEsM \\\\\n",
       "EM  &\\Leftrightarrow EsM \n",
       "\\end{align}\n"
      ],
      "text/plain": [
       "<IPython.core.display.Latex object>"
      ]
     },
     "execution_count": 25,
     "metadata": {},
     "output_type": "execute_result"
    }
   ],
   "source": [
    "s = st.stoich(Hills_abg.model(),quiet=quiet)\n",
    "disp.Latex(st.sprintrl(s,chemformula=chemformula))"
   ]
  },
  {
   "cell_type": "markdown",
   "metadata": {},
   "source": [
    "## System digraph (with chemostats)"
   ]
  },
  {
   "cell_type": "code",
   "execution_count": 26,
   "metadata": {},
   "outputs": [
    {
     "name": "stdout",
     "output_type": "stream",
     "text": [
      "Complexes: ['Es', 'E', 'EsM', 'LEsM', 'EM', 'LEM']\n"
     ]
    },
    {
     "data": {
      "image/png": "[encoded data removed]",
      "text/plain": [
       "<Figure size 640x480 with 1 Axes>"
      ]
     },
     "metadata": {},
     "output_type": "display_data"
    }
   ],
   "source": [
    "chemostats = ['Mi','Mo','Li','Lo']\n",
    "sc = st.statify(s,chemostats=chemostats)\n",
    "st.draw(sc)"
   ]
  },
  {
   "cell_type": "markdown",
   "metadata": {},
   "source": [
    "## Pathway analysis"
   ]
  },
  {
   "cell_type": "code",
   "execution_count": 27,
   "metadata": {},
   "outputs": [
    {
     "name": "stdout",
     "output_type": "stream",
     "text": [
      "2 pathways\n",
      "0:  + e + em + es + esm + lem + lesm\n",
      "1:  + e + em + es + slip\n",
      "\n"
     ]
    },
    {
     "data": {
      "text/latex": [
       "\\begin{align}\n",
       "Li + Mi  &\\Leftrightarrow Lo + Mo \\\\\n",
       "Mi  &\\Leftrightarrow Mo \n",
       "\\end{align}\n"
      ],
      "text/plain": [
       "<IPython.core.display.Latex object>"
      ]
     },
     "execution_count": 27,
     "metadata": {},
     "output_type": "execute_result"
    }
   ],
   "source": [
    "sp = st.path(s,sc)\n",
    "print(st.sprintp(sc))\n",
    "disp.Latex(st.sprintrl(sp,chemformula=chemformula))"
   ]
  },
  {
   "cell_type": "code",
   "execution_count": null,
   "metadata": {},
   "outputs": [],
   "source": []
  }
 ],
 "metadata": {
  "kernelspec": {
   "display_name": "Python 3 (ipykernel)",
   "language": "python",
   "name": "python3"
  },
  "language_info": {
   "codemirror_mode": {
    "name": "ipython",
    "version": 3
   },
   "file_extension": ".py",
   "mimetype": "text/x-python",
   "name": "python",
   "nbconvert_exporter": "python",
   "pygments_lexer": "ipython3",
   "version": "3.8.0"
  },
  "toc": {
   "base_numbering": 1,
   "nav_menu": {},
   "number_sections": true,
   "sideBar": true,
   "skip_h1_title": false,
   "title_cell": "Table of Contents",
   "title_sidebar": "Contents",
   "toc_cell": false,
   "toc_position": {},
   "toc_section_display": true,
   "toc_window_display": false
  }
 },
 "nbformat": 4,
 "nbformat_minor": 4
}
